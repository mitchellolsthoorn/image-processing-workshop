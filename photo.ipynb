{
 "cells": [
  {
   "metadata": {},
   "cell_type": "markdown",
   "source": "#### Authored by Dr. Mitchell Olsthoorn and Dr. Annibale Panichella",
   "id": "a2a2f8363263cd59"
  },
  {
   "cell_type": "code",
   "id": "initial_id",
   "metadata": {
    "collapsed": true,
    "ExecuteTime": {
     "end_time": "2024-10-17T09:02:51.034559Z",
     "start_time": "2024-10-17T09:02:44.898574Z"
    }
   },
   "source": [
    "from PIL import Image\n",
    "from openpyxl import Workbook\n",
    "from openpyxl.styles import PatternFill\n",
    "from openpyxl.utils import get_column_letter  # This helps convert numbers to Excel column names\n",
    "\n",
    "# Load and resize the image\n",
    "image_path = 'images/tiger.jpeg'  # Replace with the path to your image\n",
    "img = Image.open(image_path).convert('RGB')  # Convert image to RGB mode\n",
    "img = img.resize((256, 256))  # Resize to a 20x20 grid for better readability in Excel\n",
    "\n",
    "# Create a new Excel workbook and sheet\n",
    "wb = Workbook()\n",
    "ws = wb.active\n",
    "\n",
    "# Set a uniform scaling factor to make the cells square\n",
    "cell_width = 1  # Adjust this for how \"zoomed in\" the final result should be\n",
    "cell_height = 16  # Excel row height unit (adjust if needed)\n",
    "\n",
    "# Set the column width and row height to maintain square cells\n",
    "for i in range(img.width * 3):  # *3 because each pixel takes up 3 columns (R, G, B)\n",
    "    ws.column_dimensions[get_column_letter(i+1)].width = cell_width\n",
    "\n",
    "for j in range(img.height):\n",
    "    ws.row_dimensions[j + 1].height = cell_height\n",
    "\n",
    "# Loop through the image pixels and set three cells per pixel (R, G, B)\n",
    "for i in range(img.width):\n",
    "    for j in range(img.height):\n",
    "        r, g, b = img.getpixel((i, j))  # Extract RGB values\n",
    "\n",
    "        # Red component cell\n",
    "        red_fill = PatternFill(start_color=f'{r:02X}0000', end_color=f'{r:02X}0000', fill_type='solid')\n",
    "        red_cell = ws.cell(row=j+1, column=i*3+1)  # Place the red component\n",
    "        red_cell.fill = red_fill\n",
    "        # red_cell.value = r  # Write the red value\n",
    "\n",
    "        # Green component cell\n",
    "        green_fill = PatternFill(start_color=f'00{g:02X}00', end_color=f'00{g:02X}00', fill_type='solid')\n",
    "        green_cell = ws.cell(row=j+1, column=i*3+2)  # Place the green component\n",
    "        green_cell.fill = green_fill\n",
    "        # green_cell.value = g  # Write the green value\n",
    "\n",
    "        # Blue component cell\n",
    "        blue_fill = PatternFill(start_color=f'0000{b:02X}', end_color=f'0000{b:02X}', fill_type='solid')\n",
    "        blue_cell = ws.cell(row=j+1, column=i*3+3)  # Place the blue component\n",
    "        blue_cell.fill = blue_fill\n",
    "        # blue_cell.value = b  # Write the blue value\n",
    "\n",
    "# Save the workbook\n",
    "wb.save('images/tiger.xlsx')\n"
   ],
   "outputs": [],
   "execution_count": 2
  }
 ],
 "metadata": {
  "kernelspec": {
   "display_name": "Python 3",
   "language": "python",
   "name": "python3"
  },
  "language_info": {
   "codemirror_mode": {
    "name": "ipython",
    "version": 2
   },
   "file_extension": ".py",
   "mimetype": "text/x-python",
   "name": "python",
   "nbconvert_exporter": "python",
   "pygments_lexer": "ipython2",
   "version": "2.7.6"
  }
 },
 "nbformat": 4,
 "nbformat_minor": 5
}
